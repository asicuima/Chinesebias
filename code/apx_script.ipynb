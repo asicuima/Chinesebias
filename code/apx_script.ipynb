{
 "cells": [
  {
   "cell_type": "markdown",
   "metadata": {},
   "source": [
    "models:\n",
    "llama 3 - meta-llama/Llama-3.1-8B\n",
    "gemini - google/gemma-7b\n",
    "chatglm - THUDM/chatglm-6b\n",
    "CPM - TsinghuaAI/CPM-Generate\n",
    "\n",
    "\n",
    "start filenames:\n",
    "1_meta-llama_Llama-3.1-8B_results_noun\n",
    "1_google_gemma-7b_results_noun\n",
    "1_THUDM_chatglm-6b_results_noun\n",
    "1_TsinghuaAI_CPM-Generate_results_noun\n",
    "1_meta-llama_Llama-3.1-8B_results_adjective\n",
    "1_google_gemma-7b_results_adjective\n",
    "1_THUDM_chatglm-6b_results_adjective\n",
    "1_TsinghuaAI_CPM-Generate_results_adjective\n",
    "\n",
    "end filenames:\n",
    "2_meta-llama_Llama-3.1-8B_results_noun\n",
    "2_google_gemma-7b_results_noun\n",
    "2_THUDM_chatglm-6b_results_noun\n",
    "2_TsinghuaAI_CPM-Generate_results_noun\n",
    "2_meta-llama_Llama-3.1-8B_results_adjective\n",
    "2_google_gemma-7b_results_adjective\n",
    "2_THUDM_chatglm-6b_results_adjective\n",
    "2_TsinghuaAI_CPM-Generate_results_adjective"
   ]
  },
  {
   "cell_type": "code",
   "execution_count": null,
   "metadata": {
    "vscode": {
     "languageId": "plaintext"
    }
   },
   "outputs": [],
   "source": [
    "import pandas as pd\n",
    "import itertools"
   ]
  },
  {
   "cell_type": "code",
   "execution_count": null,
   "metadata": {
    "vscode": {
     "languageId": "plaintext"
    }
   },
   "outputs": [],
   "source": [
    "filename = f'../results/1_meta-llama_Meta-Llama-3-8B_results_noun.csv'\n",
    "df = pd.read_csv(filename, on_bad_lines='warn')\n",
    "\n",
    "df"
   ]
  },
  {
   "cell_type": "markdown",
   "metadata": {},
   "source": [
    "Sentence-level apx per individual ⬇️   "
   ]
  },
  {
   "cell_type": "code",
   "execution_count": null,
   "metadata": {
    "vscode": {
     "languageId": "plaintext"
    }
   },
   "outputs": [],
   "source": [
    "for i in range(1,4):\n",
    "    cluster_summary = []\n",
    "\n",
    "    overall_mean = df[f'perplexity_{i}'].mean()\n",
    "\n",
    "    for group in df['Gender group'].unique():\n",
    "        cluster_data = df[(df['Gender group'] == group)]\n",
    "        \n",
    "        # Get the average perplexity for the current group\n",
    "        cluster_gender = cluster_data['Gender group'].iloc[0]\n",
    "        average_perplexity = round(cluster_data[f'perplexity_{i}'].mean(), 2)\n",
    "        prop_perplexity = round(cluster_data[f'perplexity_{i}'].mean() / overall_mean, 3)  # average of the group / overall\n",
    "\n",
    "        cluster_summary.append({'Group': cluster_gender, \n",
    "        'Average Perplexity': average_perplexity, 'Proportional Perplexity': prop_perplexity})\n",
    "\n",
    "    # Create a DataFrame from the cluster summary list\n",
    "    prop_df = pd.DataFrame(cluster_summary)\n",
    "\n",
    "    # Sort the DataFrame by perplexity in ascending order\n",
    "    prop_df = prop_df.sort_values(by='Average Perplexity')\n",
    "\n",
    "    # Merge the DataFrames based on 'Group'\n",
    "    df = pd.merge(df, prop_df, on='Group', how='left')\n",
    "\n",
    "    # Calculate Adjusted Perplexity\n",
    "    df[f'apx_{i}'] = df[f'perplexity_{i}'] / df['Proportional Perplexity']\n",
    "    df = df.drop(['Average Perplexity', 'Proportional Perplexity'], axis=1)"
   ]
  },
  {
   "cell_type": "markdown",
   "metadata": {},
   "source": [
    "Group-level average per descriptor ⬇️"
   ]
  },
  {
   "cell_type": "code",
   "execution_count": null,
   "metadata": {
    "vscode": {
     "languageId": "plaintext"
    }
   },
   "outputs": [],
   "source": [
    "def get_summary_df(df):\n",
    "    cluster_summary = []\n",
    "    \n",
    "    for group in df['Gender group'].unique():\n",
    "        for descriptor in df['descriptor'].unique():\n",
    "            group_df = df[(df['Gender group'] == group)\n",
    "                        & (df['descriptor'] == descriptor)]\n",
    "\n",
    "            # Check if any rows exist for the current combination and group_id\n",
    "            if not group_df.empty:\n",
    "                # Get the ethnicity, gender, and average perplexity for the current cluster\n",
    "                average_apx_1 = round(group_df['apx_1'].mean(), 2)\n",
    "                average_apx_2 = round(group_df['apx_2'].mean(), 2)\n",
    "                average_apx_3 = round(group_df['apx_3'].mean(), 2)\n",
    "\n",
    "                cluster_summary.append({'Group': group, 'apx_1': average_apx_1, \n",
    "                                        'apx_2': average_apx_2, 'apx_3': average_apx_3,\n",
    "                                        'descriptor': descriptor, 'axis': group_df['axis'].iloc[0],\n",
    "                                        'gender_nouns': group_df['Gender-specific nouns'].iloc[0],\n",
    "                                        'des_type': group_df['des_type'].iloc[0]})\n",
    "\n",
    "    # Create a DataFrame from the cluster summary list\n",
    "    summary_df = pd.DataFrame(cluster_summary)\n",
    "\n",
    "    # Sort the DataFrame by descriptor in ascending order\n",
    "    summary_df = summary_df.sort_values(by='descriptor')\n",
    "\n",
    "    return(summary_df)"
   ]
  },
  {
   "cell_type": "code",
   "execution_count": null,
   "metadata": {
    "vscode": {
     "languageId": "plaintext"
    }
   },
   "outputs": [],
   "source": [
    "summary_df = get_summary_df(df)\n",
    "adj_name=\"llama_Llama-3.1-8B\"\n",
    "summary_df.to_csv(f'../results/2_{adj_name}_results_noun.csv')"
   ]
  }
 ],
 "metadata": {
  "language_info": {
   "name": "python"
  }
 },
 "nbformat": 4,
 "nbformat_minor": 2
}
