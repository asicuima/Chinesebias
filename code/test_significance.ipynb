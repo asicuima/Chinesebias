{
  "nbformat": 4,
  "nbformat_minor": 0,
  "metadata": {
    "colab": {
      "provenance": []
    },
    "kernelspec": {
      "name": "python3",
      "display_name": "Python 3"
    },
    "language_info": {
      "name": "python"
    }
  },
  "cells": [
    {
      "cell_type": "code",
      "execution_count": null,
      "metadata": {
        "id": "x82X-qZ5cbTX"
      },
      "outputs": [],
      "source": [
        "import pandas as pd\n",
        "from scipy.stats import wilcoxon\n",
        "\n",
        "model_names = [\"meta-llama_Llama-3.2-3B\", \"facebook_xglm-4.5B\", \"deepseek-ai_deepseek-llm-7b-base\", \"TsinghuaAI_CPM-Generate\"]"
      ]
    },
    {
      "cell_type": "code",
      "source": [
        "from scipy.stats import wilcoxon\n",
        "import pandas as pd\n",
        "\n",
        "# Load the dataset\n",
        "filename = f'result/2_{model_names[0]}_results_apx.csv'\n",
        "df = pd.read_csv(filename, on_bad_lines='warn')\n",
        "\n",
        "# Clean and prepare\n",
        "df['gender'] = df['gender'].replace({'m': 'male', 'f': 'female'})\n",
        "df['apx_avg'] = df[['apx_1', 'apx_2', 'apx_3']].mean(axis=1)\n",
        "df = df.dropna(subset=['descriptor', 'gender', 'apx_avg'])\n",
        "\n",
        "# Pivot table: rows = descriptor, columns = gender\n",
        "pivot = df.pivot_table(index='descriptor', columns='gender', values='apx_avg', aggfunc='mean').dropna()\n",
        "\n",
        "# Wilcoxon test (paired)\n",
        "stat, p = wilcoxon(pivot['female'], pivot['male'])\n",
        "print(\"\\n=== Wilcoxon Signed-Rank Test (Female vs Male APX Avg) ===\")\n",
        "print(f\"Statistic = {stat:.4f}, p-value = {p:.4e}\")\n",
        "if p < 0.05:\n",
        "    print(\"❗ Significant difference between male and female APX.\")\n",
        "else:\n",
        "    print(\"✅ No significant difference between male and female APX.\")\n"
      ],
      "metadata": {
        "colab": {
          "base_uri": "https://localhost:8080/"
        },
        "id": "OxlVc5gvc8pg",
        "outputId": "9e3d08a9-1a10-42a0-9e83-a563eaf94ac9"
      },
      "execution_count": null,
      "outputs": [
        {
          "output_type": "stream",
          "name": "stdout",
          "text": [
            "\n",
            "=== Wilcoxon Signed-Rank Test (Female vs Male APX Avg) ===\n",
            "Statistic = 20337.0000, p-value = 1.2501e-12\n",
            "❗ Significant difference between male and female APX.\n"
          ]
        }
      ]
    },
    {
      "cell_type": "code",
      "source": [
        "from scipy.stats import wilcoxon\n",
        "import pandas as pd\n",
        "\n",
        "# Load the dataset\n",
        "filename = f'result/2_{model_names[1]}_results_apx.csv'\n",
        "df = pd.read_csv(filename, on_bad_lines='warn')\n",
        "\n",
        "# Clean and prepare\n",
        "df['gender'] = df['gender'].replace({'m': 'male', 'f': 'female'})\n",
        "df['apx_avg'] = df[['apx_1', 'apx_2', 'apx_3']].mean(axis=1)\n",
        "df = df.dropna(subset=['descriptor', 'gender', 'apx_avg'])\n",
        "\n",
        "# Pivot table: rows = descriptor, columns = gender\n",
        "pivot = df.pivot_table(index='descriptor', columns='gender', values='apx_avg', aggfunc='mean').dropna()\n",
        "\n",
        "# Wilcoxon test (paired)\n",
        "stat, p = wilcoxon(pivot['female'], pivot['male'])\n",
        "print(\"\\n=== Wilcoxon Signed-Rank Test (Female vs Male APX Avg) ===\")\n",
        "print(f\"Statistic = {stat:.4f}, p-value = {p:.4e}\")\n",
        "if p < 0.05:\n",
        "    print(\"❗ Significant difference between male and female APX.\")\n",
        "else:\n",
        "    print(\"✅ No significant difference between male and female APX.\")\n"
      ],
      "metadata": {
        "colab": {
          "base_uri": "https://localhost:8080/"
        },
        "id": "3k5gLnYDlxsO",
        "outputId": "3415584d-0541-4ed4-e83d-096e51133c4a"
      },
      "execution_count": null,
      "outputs": [
        {
          "output_type": "stream",
          "name": "stdout",
          "text": [
            "\n",
            "=== Wilcoxon Signed-Rank Test (Female vs Male APX Avg) ===\n",
            "Statistic = 23441.0000, p-value = 1.8873e-08\n",
            "❗ Significant difference between male and female APX.\n"
          ]
        }
      ]
    },
    {
      "cell_type": "code",
      "source": [
        "from scipy.stats import wilcoxon\n",
        "import pandas as pd\n",
        "\n",
        "# Load the dataset\n",
        "filename = f'result/2_{model_names[2]}_results_apx.csv'\n",
        "df = pd.read_csv(filename, on_bad_lines='warn')\n",
        "\n",
        "# Clean and prepare\n",
        "df['gender'] = df['gender'].replace({'m': 'male', 'f': 'female'})\n",
        "df['apx_avg'] = df[['apx_1', 'apx_2', 'apx_3']].mean(axis=1)\n",
        "df = df.dropna(subset=['descriptor', 'gender', 'apx_avg'])\n",
        "\n",
        "# Pivot table: rows = descriptor, columns = gender\n",
        "pivot = df.pivot_table(index='descriptor', columns='gender', values='apx_avg', aggfunc='mean').dropna()\n",
        "\n",
        "# Wilcoxon test (paired)\n",
        "stat, p = wilcoxon(pivot['female'], pivot['male'])\n",
        "print(\"\\n=== Wilcoxon Signed-Rank Test (Female vs Male APX Avg) ===\")\n",
        "print(f\"Statistic = {stat:.4f}, p-value = {p:.4e}\")\n",
        "if p < 0.05:\n",
        "    print(\"❗ Significant difference between male and female APX.\")\n",
        "else:\n",
        "    print(\"✅ No significant difference between male and female APX.\")\n"
      ],
      "metadata": {
        "colab": {
          "base_uri": "https://localhost:8080/"
        },
        "id": "_0rysCx-lx17",
        "outputId": "83bd0763-1b58-4530-9998-9bee6223e626"
      },
      "execution_count": null,
      "outputs": [
        {
          "output_type": "stream",
          "name": "stdout",
          "text": [
            "\n",
            "=== Wilcoxon Signed-Rank Test (Female vs Male APX Avg) ===\n",
            "Statistic = 34383.0000, p-value = 6.7978e-01\n",
            "✅ No significant difference between male and female APX.\n"
          ]
        }
      ]
    },
    {
      "cell_type": "code",
      "source": [
        "from scipy.stats import wilcoxon\n",
        "import pandas as pd\n",
        "\n",
        "# Load the dataset\n",
        "filename = f'result/2_{model_names[3]}_results_apx.csv'\n",
        "df = pd.read_csv(filename, on_bad_lines='warn')\n",
        "\n",
        "# Clean and prepare\n",
        "df['gender'] = df['gender'].replace({'m': 'male', 'f': 'female'})\n",
        "df['apx_avg'] = df[['apx_1', 'apx_2', 'apx_3']].mean(axis=1)\n",
        "df = df.dropna(subset=['descriptor', 'gender', 'apx_avg'])\n",
        "\n",
        "# Pivot table: rows = descriptor, columns = gender\n",
        "pivot = df.pivot_table(index='descriptor', columns='gender', values='apx_avg', aggfunc='mean').dropna()\n",
        "\n",
        "# Wilcoxon test (paired)\n",
        "stat, p = wilcoxon(pivot['female'], pivot['male'])\n",
        "print(\"\\n=== Wilcoxon Signed-Rank Test (Female vs Male APX Avg) ===\")\n",
        "print(f\"Statistic = {stat:.4f}, p-value = {p:.4e}\")\n",
        "if p < 0.05:\n",
        "    print(\"❗ Significant difference between male and female APX.\")\n",
        "else:\n",
        "    print(\"✅ No significant difference between male and female APX.\")\n"
      ],
      "metadata": {
        "colab": {
          "base_uri": "https://localhost:8080/"
        },
        "id": "Hou7iszylx-8",
        "outputId": "5a985513-7e0d-4a7c-e964-c5a7ba4c7da7"
      },
      "execution_count": null,
      "outputs": [
        {
          "output_type": "stream",
          "name": "stdout",
          "text": [
            "\n",
            "=== Wilcoxon Signed-Rank Test (Female vs Male APX Avg) ===\n",
            "Statistic = 34748.0000, p-value = 8.1111e-01\n",
            "✅ No significant difference between male and female APX.\n"
          ]
        }
      ]
    }
  ]
}