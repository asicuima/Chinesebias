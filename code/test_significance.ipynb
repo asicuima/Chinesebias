{
  "nbformat": 4,
  "nbformat_minor": 0,
  "metadata": {
    "colab": {
      "provenance": []
    },
    "kernelspec": {
      "name": "python3",
      "display_name": "Python 3"
    },
    "language_info": {
      "name": "python"
    }
  },
  "cells": [
    {
      "cell_type": "code",
      "execution_count": 2,
      "metadata": {
        "id": "x82X-qZ5cbTX"
      },
      "outputs": [],
      "source": [
        "import pandas as pd\n",
        "from scipy.stats import wilcoxon\n",
        "\n",
        "model_names = [\"meta-llama_Llama-3.2-3B\", \"facebook_xglm-4.5B\", \"THUDM_chatglm3-6b-base\", \"TsinghuaAI_CPM-Generate\"]"
      ]
    },
    {
      "cell_type": "code",
      "source": [
        "# Load the dataset\n",
        "filename = f'result/2_{model_names[0]}_results_apx.csv'\n",
        "df = pd.read_csv(filename, on_bad_lines='warn')\n",
        "\n",
        "# Step 1: Aggregate APX values per descriptor and gender\n",
        "agg_df = df.groupby(['descriptor', 'gender'])[['apx_1', 'apx_2', 'apx_3']].mean().reset_index()\n",
        "\n",
        "# Step 2: Pivot for Wilcoxon test\n",
        "for col in ['apx_1', 'apx_2', 'apx_3']:\n",
        "    pivot = agg_df.pivot(index='descriptor', columns='gender', values=col).dropna()\n",
        "    stat, p = wilcoxon(pivot['f'], pivot['m'])\n",
        "    print(f\"{col}: Wilcoxon stat = {stat:.4f}, p = {p:.4e}\")\n"
      ],
      "metadata": {
        "colab": {
          "base_uri": "https://localhost:8080/"
        },
        "id": "OxlVc5gvc8pg",
        "outputId": "afa68a7f-b8f7-4870-d32e-c27a197245c5"
      },
      "execution_count": 8,
      "outputs": [
        {
          "output_type": "stream",
          "name": "stdout",
          "text": [
            "apx_1: Wilcoxon stat = 19004.0000, p = 1.0395e-14\n",
            "apx_2: Wilcoxon stat = 27729.0000, p = 3.4285e-04\n",
            "apx_3: Wilcoxon stat = 13489.0000, p = 3.7741e-25\n"
          ]
        }
      ]
    },
    {
      "cell_type": "code",
      "source": [
        "# Load the dataset\n",
        "filename = f'result/2_{model_names[1]}_results_apx.csv'\n",
        "df = pd.read_csv(filename, on_bad_lines='warn')\n",
        "\n",
        "# Step 1: Aggregate APX values per descriptor and gender\n",
        "agg_df = df.groupby(['descriptor', 'gender'])[['apx_1', 'apx_2', 'apx_3']].mean().reset_index()\n",
        "\n",
        "# Step 2: Pivot for Wilcoxon test\n",
        "for col in ['apx_1', 'apx_2', 'apx_3']:\n",
        "    pivot = agg_df.pivot(index='descriptor', columns='gender', values=col).dropna()\n",
        "    stat, p = wilcoxon(pivot['f'], pivot['m'])\n",
        "    print(f\"{col}: Wilcoxon stat = {stat:.4f}, p = {p:.4e}\")"
      ],
      "metadata": {
        "colab": {
          "base_uri": "https://localhost:8080/"
        },
        "id": "3k5gLnYDlxsO",
        "outputId": "f29e70be-6ad1-42f2-ba86-debb87987ac0"
      },
      "execution_count": 9,
      "outputs": [
        {
          "output_type": "stream",
          "name": "stdout",
          "text": [
            "apx_1: Wilcoxon stat = 18031.0000, p = 2.4520e-16\n",
            "apx_2: Wilcoxon stat = 28799.0000, p = 2.1321e-03\n",
            "apx_3: Wilcoxon stat = 33624.0000, p = 4.3887e-01\n"
          ]
        }
      ]
    },
    {
      "cell_type": "code",
      "source": [
        "# Load the dataset\n",
        "filename = f'result/2_{model_names[2]}_results_apx.csv'\n",
        "df = pd.read_csv(filename, on_bad_lines='warn')\n",
        "\n",
        "# Step 1: Aggregate APX values per descriptor and gender\n",
        "agg_df = df.groupby(['descriptor', 'gender'])[['apx_1', 'apx_2', 'apx_3']].mean().reset_index()\n",
        "\n",
        "# Step 2: Pivot for Wilcoxon test\n",
        "for col in ['apx_1', 'apx_2', 'apx_3']:\n",
        "    pivot = agg_df.pivot(index='descriptor', columns='gender', values=col).dropna()\n",
        "    stat, p = wilcoxon(pivot['f'], pivot['m'])\n",
        "    print(f\"{col}: Wilcoxon stat = {stat:.4f}, p = {p:.4e}\")"
      ],
      "metadata": {
        "colab": {
          "base_uri": "https://localhost:8080/"
        },
        "id": "_0rysCx-lx17",
        "outputId": "90e5d056-0ff0-44ee-ab9e-2f4f5e8635b9"
      },
      "execution_count": 10,
      "outputs": [
        {
          "output_type": "stream",
          "name": "stdout",
          "text": [
            "apx_1: Wilcoxon stat = 34264.0000, p = 6.3878e-01\n",
            "apx_2: Wilcoxon stat = 30802.0000, p = 3.4210e-02\n",
            "apx_3: Wilcoxon stat = 32085.0000, p = 1.3187e-01\n"
          ]
        }
      ]
    },
    {
      "cell_type": "code",
      "source": [
        "# Load the dataset\n",
        "filename = f'result/2_{model_names[3]}_results_apx.csv'\n",
        "df = pd.read_csv(filename, on_bad_lines='warn')\n",
        "\n",
        "# Step 1: Aggregate APX values per descriptor and gender\n",
        "agg_df = df.groupby(['descriptor', 'gender'])[['apx_1', 'apx_2', 'apx_3']].mean().reset_index()\n",
        "\n",
        "# Step 2: Pivot for Wilcoxon test\n",
        "for col in ['apx_1', 'apx_2', 'apx_3']:\n",
        "    pivot = agg_df.pivot(index='descriptor', columns='gender', values=col).dropna()\n",
        "    stat, p = wilcoxon(pivot['f'], pivot['m'])\n",
        "    print(f\"{col}: Wilcoxon stat = {stat:.4f}, p = {p:.4e}\")"
      ],
      "metadata": {
        "colab": {
          "base_uri": "https://localhost:8080/"
        },
        "id": "Hou7iszylx-8",
        "outputId": "faf9d0d1-bdaf-4266-cfe9-88c01891f18f"
      },
      "execution_count": 11,
      "outputs": [
        {
          "output_type": "stream",
          "name": "stdout",
          "text": [
            "apx_1: Wilcoxon stat = 31840.0000, p = 1.0450e-01\n",
            "apx_2: Wilcoxon stat = 33876.0000, p = 5.1303e-01\n",
            "apx_3: Wilcoxon stat = 32921.0000, p = 2.6752e-01\n"
          ]
        }
      ]
    }
  ]
}