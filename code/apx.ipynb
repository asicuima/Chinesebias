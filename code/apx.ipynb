{
 "cells": [
  {
   "cell_type": "markdown",
   "metadata": {},
   "source": [
    "models:\n",
    "meta-llama/Llama-3.2-3B \n",
    "facebook/xglm-4.5B\n",
    "THUDM/chatglm3-6b-base\n",
    "TsinghuaAI/CPM-Generate\n",
    "\n",
    "\n",
    "start filenames:\n",
    "1_meta-llama/Llama-3.2-3B_results\n",
    "1_facebook/xglm-4.5B_results\n",
    "1_THUDM_chatglm-6b_results\n",
    "1_TsinghuaAI_CPM-Generate_results\n",
    "\n",
    "end filenames:\n",
    "2_meta-llama/Llama-3.2-3B_results\n",
    "2_facebook/xglm-4.5B_results\n",
    "2_THUDM_chatglm-6b_results\n",
    "2_TsinghuaAI_CPM-Generate_results"
   ]
  },
  {
   "cell_type": "code",
   "execution_count": null,
   "metadata": {
    "vscode": {
     "languageId": "plaintext"
    }
   },
   "outputs": [],
   "source": [
    "import pandas as pd\n",
    "import itertools\n",
    "\n",
    "model_names = [\"meta-llama_Llama-3.2-3B\", \"facebook_xglm-4.5B\", \"THUDM_chatglm3-6b-base\", \"TsinghuaAI_CPM-Generate\"]"
   ]
  },
  {
   "cell_type": "code",
   "execution_count": null,
   "metadata": {
    "vscode": {
     "languageId": "plaintext"
    }
   },
   "outputs": [],
   "source": [
    "filename = f'result/1_{model_names[0]}_results.csv'\n",
    "df = pd.read_csv(filename, on_bad_lines='warn')\n",
    "\n",
    "for i in range(1,4):\n",
    "    cluster_summary = []\n",
    "\n",
    "    overall_mean = df[f'perplexity_{i}'].mean()\n",
    "\n",
    "    for group in df['gender'].unique():\n",
    "        cluster_data = df[(df['gender'] == group)]\n",
    "        \n",
    "        # Get the average perplexity for the current group\n",
    "        cluster_gender = cluster_data['gender'].iloc[0]\n",
    "        average_perplexity = round(cluster_data[f'perplexity_{i}'].mean(), 2)\n",
    "        prop_perplexity = round(cluster_data[f'perplexity_{i}'].mean() / overall_mean, 3)  # average of the group / overall\n",
    "\n",
    "        cluster_summary.append({'gender': cluster_gender, \n",
    "        'avg_ppl': average_perplexity, 'prop_ppl': prop_perplexity})\n",
    "    \n",
    "\n",
    "    # Create a DataFrame from the cluster summary list\n",
    "    prop_df = pd.DataFrame(cluster_summary)\n",
    "\n",
    "    # Sort the DataFrame by perplexity in ascending order\n",
    "    prop_df = prop_df.sort_values(by='avg_ppl')\n",
    "\n",
    "    # Merge the DataFrames based on 'Group'\n",
    "    df = pd.merge(df, prop_df, on='gender', how='left')\n",
    "\n",
    "    # Calculate Adjusted Perplexity\n",
    "    df[f'apx_{i}'] = df[f'perplexity_{i}'] / df['prop_ppl']\n",
    "    df = df.drop(['avg_ppl', 'prop_ppl'], axis=1)\n",
    "\n",
    "    print(df) \n",
    "\n",
    "    df.to_csv(f'result/2_{model_names[0]}_results_all.csv')"
   ]
  },
  {
   "cell_type": "code",
   "execution_count": null,
   "metadata": {
    "vscode": {
     "languageId": "plaintext"
    }
   },
   "outputs": [],
   "source": [
    "filename = f'result/1_{model_names[1]}_results.csv'\n",
    "df = pd.read_csv(filename, on_bad_lines='warn')\n",
    "\n",
    "for i in range(1,4):\n",
    "    cluster_summary = []\n",
    "\n",
    "    overall_mean = df[f'perplexity_{i}'].mean()\n",
    "\n",
    "    for group in df['gender'].unique():\n",
    "        cluster_data = df[(df['gender'] == group)]\n",
    "        \n",
    "        # Get the average perplexity for the current group\n",
    "        cluster_gender = cluster_data['gender'].iloc[0]\n",
    "        average_perplexity = round(cluster_data[f'perplexity_{i}'].mean(), 2)\n",
    "        prop_perplexity = round(cluster_data[f'perplexity_{i}'].mean() / overall_mean, 3)  # average of the group / overall\n",
    "\n",
    "        cluster_summary.append({'gender': cluster_gender, \n",
    "        'avg_ppl': average_perplexity, 'prop_ppl': prop_perplexity})\n",
    "    \n",
    "\n",
    "    # Create a DataFrame from the cluster summary list\n",
    "    prop_df = pd.DataFrame(cluster_summary)\n",
    "\n",
    "    # Sort the DataFrame by perplexity in ascending order\n",
    "    prop_df = prop_df.sort_values(by='avg_ppl')\n",
    "\n",
    "    # Merge the DataFrames based on 'Group'\n",
    "    df = pd.merge(df, prop_df, on='gender', how='left')\n",
    "\n",
    "    # Calculate Adjusted Perplexity\n",
    "    df[f'apx_{i}'] = df[f'perplexity_{i}'] / df['prop_ppl']\n",
    "    df = df.drop(['avg_ppl', 'prop_ppl'], axis=1)\n",
    "\n",
    "    print(df) \n",
    "\n",
    "    df.to_csv(f'result/2_{model_names[1]}_results_all.csv')"
   ]
  },
  {
   "cell_type": "code",
   "execution_count": null,
   "metadata": {
    "vscode": {
     "languageId": "plaintext"
    }
   },
   "outputs": [],
   "source": [
    "filename = f'result/1_{model_names[2]}_results.csv'\n",
    "df = pd.read_csv(filename, on_bad_lines='warn')\n",
    "\n",
    "for i in range(1,4):\n",
    "    cluster_summary = []\n",
    "\n",
    "    overall_mean = df[f'perplexity_{i}'].mean()\n",
    "\n",
    "    for group in df['gender'].unique():\n",
    "        cluster_data = df[(df['gender'] == group)]\n",
    "        \n",
    "        # Get the average perplexity for the current group\n",
    "        cluster_gender = cluster_data['gender'].iloc[0]\n",
    "        average_perplexity = round(cluster_data[f'perplexity_{i}'].mean(), 2)\n",
    "        prop_perplexity = round(cluster_data[f'perplexity_{i}'].mean() / overall_mean, 3)  # average of the group / overall\n",
    "\n",
    "        cluster_summary.append({'gender': cluster_gender, \n",
    "        'avg_ppl': average_perplexity, 'prop_ppl': prop_perplexity})\n",
    "    \n",
    "\n",
    "    # Create a DataFrame from the cluster summary list\n",
    "    prop_df = pd.DataFrame(cluster_summary)\n",
    "\n",
    "    # Sort the DataFrame by perplexity in ascending order\n",
    "    prop_df = prop_df.sort_values(by='avg_ppl')\n",
    "\n",
    "    # Merge the DataFrames based on 'Group'\n",
    "    df = pd.merge(df, prop_df, on='gender', how='left')\n",
    "\n",
    "    # Calculate Adjusted Perplexity\n",
    "    df[f'apx_{i}'] = df[f'perplexity_{i}'] / df['prop_ppl']\n",
    "    df = df.drop(['avg_ppl', 'prop_ppl'], axis=1)\n",
    "\n",
    "    print(df) \n",
    "\n",
    "    df.to_csv(f'result/2_{model_names[2]}_results_all.csv')"
   ]
  },
  {
   "cell_type": "code",
   "execution_count": null,
   "metadata": {
    "vscode": {
     "languageId": "plaintext"
    }
   },
   "outputs": [],
   "source": [
    "filename = f'result/1_{model_names[3]}_results.csv'\n",
    "df = pd.read_csv(filename, on_bad_lines='warn')\n",
    "\n",
    "for i in range(1,4):\n",
    "    cluster_summary = []\n",
    "\n",
    "    overall_mean = df[f'perplexity_{i}'].mean()\n",
    "\n",
    "    for group in df['gender'].unique():\n",
    "        cluster_data = df[(df['gender'] == group)]\n",
    "        \n",
    "        # Get the average perplexity for the current group\n",
    "        cluster_gender = cluster_data['gender'].iloc[0]\n",
    "        average_perplexity = round(cluster_data[f'perplexity_{i}'].mean(), 2)\n",
    "        prop_perplexity = round(cluster_data[f'perplexity_{i}'].mean() / overall_mean, 3)  # average of the group / overall\n",
    "\n",
    "        cluster_summary.append({'gender': cluster_gender, \n",
    "        'avg_ppl': average_perplexity, 'prop_ppl': prop_perplexity})\n",
    "    \n",
    "\n",
    "    # Create a DataFrame from the cluster summary list\n",
    "    prop_df = pd.DataFrame(cluster_summary)\n",
    "\n",
    "    # Sort the DataFrame by perplexity in ascending order\n",
    "    prop_df = prop_df.sort_values(by='avg_ppl')\n",
    "\n",
    "    # Merge the DataFrames based on 'Group'\n",
    "    df = pd.merge(df, prop_df, on='gender', how='left')\n",
    "\n",
    "    # Calculate Adjusted Perplexity\n",
    "    df[f'apx_{i}'] = df[f'perplexity_{i}'] / df['prop_ppl']\n",
    "    df = df.drop(['avg_ppl', 'prop_ppl'], axis=1)\n",
    "\n",
    "    print(df) \n",
    "\n",
    "    df.to_csv(f'result/2_{model_names[3]}_results_all.csv')"
   ]
  }
 ],
 "metadata": {
  "language_info": {
   "name": "python"
  }
 },
 "nbformat": 4,
 "nbformat_minor": 2
}
