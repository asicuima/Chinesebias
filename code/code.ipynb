{
 "cells": [
  {
   "cell_type": "markdown",
   "metadata": {},
   "source": [
    "time python code/5_perplexity_script.py --model_name=<<hf_model_name>> --num_gpus=2 --model_type=<<model_type>>"
   ]
  },
  {
   "cell_type": "markdown",
   "metadata": {},
   "source": [
    "time python perplexity_script_all.py --model_name=meta-llama/Llama-3.1-8B --num_gpus=1 --model_type=LM\n",
    "time python perplexity_script_all.py --model_name=google/gemma-7b --num_gpus=1 --model_type=LM\n",
    "time python perplexity_script_all.py --model_name=THUDM/chatglm3-6b --num_gpus=1 --model_type=LM\n",
    "time python perplexity_script_all.py --model_name=TsinghuaAI/CPM-Generate --num_gpus=1 --model_type=LM"
   ]
  }
 ],
 "metadata": {
  "language_info": {
   "name": "python"
  }
 },
 "nbformat": 4,
 "nbformat_minor": 2
}
