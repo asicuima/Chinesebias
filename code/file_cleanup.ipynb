{
 "cells": [
  {
   "cell_type": "code",
   "execution_count": null,
   "metadata": {
    "vscode": {
     "languageId": "plaintext"
    }
   },
   "outputs": [],
   "source": [
    "import pandas as pd\n",
    "import numpy as np\n",
    "\n",
    "df = pd.read_csv(\"result/1_THUDM_chatglm3-6b-base_results.csv\")\n",
    "df.replace([np.inf, -np.inf], 1e6, inplace=True)\n",
    "df.to_csv(\"result/1_THUDM_chatglm3-6b-base_results2.csv\", index=False)\n"
   ]
  }
 ],
 "metadata": {
  "language_info": {
   "name": "python"
  }
 },
 "nbformat": 4,
 "nbformat_minor": 2
}
