{
 "cells": [
  {
   "cell_type": "markdown",
   "metadata": {},
   "source": [
    "time python code/perplexity_script_all.py --model_name=<<hf_model_name>> --num_gpus=2 --model_type=<<model_type>>"
   ]
  },
  {
   "cell_type": "markdown",
   "metadata": {},
   "source": [
    "time python code/perplexity_script_all.py --model_name=meta-llama/Llama-3.1-8B --num_gpus=1 --model_type=LM <br /> \n",
    "time python code/perplexity_script_all.py --model_name=google/gemma-3-4b-it --num_gpus=1 --model_type=LM <br /> \n",
    "time python code/perplexity_script_all.py --model_name=THUDM/chatglm3-6b --num_gpus=1 --model_type=LM <br /> \n",
    "time python code/perplexity_script_all.py --model_name=TsinghuaAI/CPM-Generate --num_gpus=1 --model_type=LM <br /> "
   ]
  },
  {
   "cell_type": "markdown",
   "metadata": {},
   "source": [
    "google/gemma-3-4b-it , google/gemma-3-12b-it\n",
    "meta-llama/Llama-3.2-3B , meta-llama/Llama-3.1-8B"
   ]
  },
  {
   "cell_type": "markdown",
   "metadata": {},
   "source": [
    "meta-llama/Llama-3.1-8B \n",
    "google/gemma-3-4b-it\n",
    "THUDM/chatglm3-6b \n",
    "TsinghuaAI/CPM-Generate"
   ]
  }
 ],
 "metadata": {
  "language_info": {
   "name": "python"
  }
 },
 "nbformat": 4,
 "nbformat_minor": 2
}
