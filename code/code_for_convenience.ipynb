{
 "cells": [
  {
   "cell_type": "markdown",
   "metadata": {},
   "source": [
    "time python code/perplexity_script_all.py --model_name=<<hf_model_name>> --num_gpus=2 --model_type=<<model_type>>"
   ]
  },
  {
   "cell_type": "markdown",
   "metadata": {},
   "source": [
    "time python code/perplexity_script_all.py --model_name=meta-llama/Llama-3.2-3B --num_gpus=1 --model_type=LM <br /> \n",
    "time python code/perplexity_script_all.py --model_name=google/gemma-3-4b-pt --num_gpus=1 --model_type=LM <br /> \n",
    "time python code/perplexity_script_all.py --model_name=THUDM/chatglm3-6b-base --num_gpus=1 --model_type=LM <br /> \n",
    "time python code/perplexity_script_all.py --model_name=TsinghuaAI/CPM-Generate --num_gpus=1 --model_type=LM <br /> "
   ]
  },
  {
   "cell_type": "markdown",
   "metadata": {},
   "source": [
    "time python code/perplexity_script_llama.py --model_name=meta-llama/Llama-3.2-3B --num_gpus=1 --model_type=LM <br /> \n",
    "time python code/perplexity_script_gemma.py --model_name=google/gemma-3-4b-pt --num_gpus=1 --model_type=LM <br /> "
   ]
  },
  {
   "cell_type": "markdown",
   "metadata": {},
   "source": [
    "meta-llama/Llama-3.2-3B \n",
    "google/gemma-3-4b-pt\n",
    "THUDM/chatglm3-6b-base\n",
    "TsinghuaAI/CPM-Generate"
   ]
  }
 ],
 "metadata": {
  "language_info": {
   "name": "python"
  }
 },
 "nbformat": 4,
 "nbformat_minor": 2
}
